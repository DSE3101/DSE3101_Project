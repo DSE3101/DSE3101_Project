{
 "cells": [
  {
   "cell_type": "code",
   "execution_count": 6,
   "metadata": {},
   "outputs": [],
   "source": [
    "import pandas as pd\n",
    "# Data downloaded as of 31 Mar 2024\n",
    "# Focus on quarterly real data\n",
    "# Excluded discontinued variables\n",
    "\n",
    "def pad_columns_to_09Q3(df, name):\n",
    "    na_cols = [f'{name}65Q4']\n",
    "    na_cols.extend([f'{name}{i}Q{j}' for i in range(66, 100) for j in range(1, 5)])\n",
    "    na_cols.extend([f'{name}0{i}Q{j}' for i in range(0, 9) for j in range(1, 5)])\n",
    "    na_cols.extend([f'{name}09Q1', f'{name}09Q2'])\n",
    "    na_df = pd.DataFrame(columns=na_cols)\n",
    "    df = pd.concat([na_df, df], axis=1)\n",
    "    df.index.names = ['DATE']\n",
    "    df.fillna(-1, inplace=True)\n",
    "    return df\n",
    "\n",
    "def pad_columns_to_98Q4(df, name):\n",
    "    na_cols = [f'{name}65Q4']\n",
    "    na_cols.extend([f'{name}{i}Q{j}'for i in range(66, 98) for j in range(1, 5)])\n",
    "    na_cols.extend([f'{name}98Q1', f'{name}98Q2', f'{name}98Q3'])\n",
    "    na_df = pd.DataFrame(columns=na_cols)\n",
    "    df = pd.concat([na_df, df], axis=1)\n",
    "    df.index.names = [\"DATE\"]\n",
    "    df.fillna(-1, inplace=True)\n",
    "    return df\n",
    "\n",
    "def month_to_quarter(df, name):\n",
    "    # Filter middle months\n",
    "    col_months = df.columns\n",
    "    col_middle_months = []\n",
    "    for month in col_months:\n",
    "        if month[-2:] in (\"M2\", \"M5\", \"M8\", \"11\"):\n",
    "            col_middle_months.append(month)\n",
    "    df = df[col_middle_months]\n",
    "\n",
    "    # Convert month to quarter\n",
    "    col_quarters = []\n",
    "    for col in col_middle_months:\n",
    "        month = col[-2:]\n",
    "        if month == \"M2\":\n",
    "            col_quarters.append(col[:-2] + \"Q1\")\n",
    "        elif month == \"M5\":\n",
    "            col_quarters.append(col[:-2] + \"Q2\")\n",
    "        elif month == \"M8\":\n",
    "            col_quarters.append(col[:-2] + \"Q3\")\n",
    "        elif month == \"11\":\n",
    "            col_quarters.append(col[:-3] + \"Q4\")\n",
    "    df.columns = col_quarters\n",
    "\n",
    "    return df\n",
    "\n",
    "def rows_to_quarter(df):\n",
    "    middle_months = []\n",
    "    for year in range(1947, 2024):\n",
    "        for month in (2, 5, 8):\n",
    "            middle_months.append(f'{year}:0{month}')\n",
    "        middle_months.append(f'{year}:11')\n",
    "    df = df.loc[middle_months]\n",
    "\n",
    "    time_quarters = [f'{year}:Q{quarter}' for year in range(1947, 2024) for quarter in range(1, 5)]\n",
    "    df.index = time_quarters\n",
    "    return df"
   ]
  },
  {
   "cell_type": "code",
   "execution_count": 7,
   "metadata": {},
   "outputs": [],
   "source": [
    "RCON = pd.read_excel(\"./data/project data/RCONQvQd.xlsx\", index_col=\"DATE\").fillna(-1)"
   ]
  },
  {
   "cell_type": "code",
   "execution_count": 8,
   "metadata": {},
   "outputs": [],
   "source": [
    "rcong = pd.read_excel(\"./data/project data/rcongQvQd.xlsx\", index_col=\"DATE\")\n",
    "rcong = pad_columns_to_09Q3(rcong, \"rcong\")"
   ]
  },
  {
   "cell_type": "code",
   "execution_count": 9,
   "metadata": {},
   "outputs": [],
   "source": [
    "RCONND = pd.read_excel(\"./data/project data/RCONNDQvQd.xlsx\", index_col=\"DATE\").fillna(-1)"
   ]
  },
  {
   "cell_type": "code",
   "execution_count": 10,
   "metadata": {},
   "outputs": [],
   "source": [
    "RCOND = pd.read_excel(\"./data/project data/RCONDQvQd.xlsx\", index_col=\"DATE\").fillna(-1)"
   ]
  },
  {
   "cell_type": "code",
   "execution_count": 11,
   "metadata": {},
   "outputs": [],
   "source": [
    "RCONS = pd.read_excel(\"./data/project data/RCONSQvQd.xlsx\", index_col=\"DATE\").fillna(-1)"
   ]
  },
  {
   "cell_type": "code",
   "execution_count": 12,
   "metadata": {},
   "outputs": [],
   "source": [
    "rconshh = pd.read_excel(\"./data/project data/rconshhQvQd.xlsx\", index_col=\"DATE\")\n",
    "rconshh = pad_columns_to_09Q3(rconshh, \"rconshh\")"
   ]
  },
  {
   "cell_type": "code",
   "execution_count": 13,
   "metadata": {},
   "outputs": [],
   "source": [
    "rconsnp = pd.read_excel(\"./data/project data/rconsnpQvQd.xlsx\", index_col=\"DATE\")\n",
    "rconsnp = pad_columns_to_09Q3(rconsnp, \"rconsnp\")"
   ]
  },
  {
   "cell_type": "code",
   "execution_count": 14,
   "metadata": {},
   "outputs": [],
   "source": [
    "rinvbf = pd.read_excel(\"./data/project data/rinvbfQvQd.xlsx\", index_col=\"DATE\").fillna(-1)"
   ]
  },
  {
   "cell_type": "code",
   "execution_count": 15,
   "metadata": {},
   "outputs": [],
   "source": [
    "rinvresid = pd.read_excel(\"./data/project data/rinvresidQvQd.xlsx\", index_col=\"DATE\").fillna(-1)"
   ]
  },
  {
   "cell_type": "code",
   "execution_count": 16,
   "metadata": {},
   "outputs": [],
   "source": [
    "rinvchi = pd.read_excel(\"./data/project data/rinvchiQvQd.xlsx\", index_col=\"DATE\").fillna(-1)"
   ]
  },
  {
   "cell_type": "code",
   "execution_count": 17,
   "metadata": {},
   "outputs": [],
   "source": [
    "RNX = pd.read_excel(\"./data/project data/RNXQvQd.xlsx\", index_col=\"DATE\").fillna(-1)"
   ]
  },
  {
   "cell_type": "code",
   "execution_count": 18,
   "metadata": {},
   "outputs": [],
   "source": [
    "REX = pd.read_excel(\"./data/project data/REXQvQd.xlsx\", index_col=\"DATE\").fillna(-1)"
   ]
  },
  {
   "cell_type": "code",
   "execution_count": 19,
   "metadata": {},
   "outputs": [],
   "source": [
    "RIMP = pd.read_excel(\"./data/project data/RIMPQvQd.xlsx\", index_col=\"DATE\").fillna(-1)"
   ]
  },
  {
   "cell_type": "code",
   "execution_count": 20,
   "metadata": {},
   "outputs": [],
   "source": [
    "RG = pd.read_excel(\"./data/project data/RGQvQd.xlsx\", index_col=\"DATE\").fillna(-1)"
   ]
  },
  {
   "cell_type": "code",
   "execution_count": 21,
   "metadata": {},
   "outputs": [],
   "source": [
    "RGF = pd.read_excel(\"./data/project data/RGFQvQd.xlsx\", index_col=\"DATE\").fillna(-1)"
   ]
  },
  {
   "cell_type": "code",
   "execution_count": 22,
   "metadata": {},
   "outputs": [],
   "source": [
    "RGSL = pd.read_excel(\"./data/project data/RGSLQvQd.xlsx\", index_col=\"DATE\").fillna(-1)"
   ]
  },
  {
   "cell_type": "code",
   "execution_count": 23,
   "metadata": {},
   "outputs": [],
   "source": [
    "rconhh = pd.read_excel(\"./data/project data/rconhhQvQd.xlsx\", index_col=\"DATE\")\n",
    "rconhh = pad_columns_to_09Q3(rconhh, \"rconhh\")"
   ]
  },
  {
   "cell_type": "code",
   "execution_count": 24,
   "metadata": {},
   "outputs": [],
   "source": [
    "WSD = pd.read_excel(\"./data/project data/wsdQvQd.xlsx\", index_col=\"DATE\").fillna(-1)"
   ]
  },
  {
   "cell_type": "code",
   "execution_count": 25,
   "metadata": {},
   "outputs": [],
   "source": [
    "OLI = pd.read_excel(\"./data/project data/oliQvQd.xlsx\", index_col=\"DATE\").fillna(-1)"
   ]
  },
  {
   "cell_type": "code",
   "execution_count": 26,
   "metadata": {},
   "outputs": [],
   "source": [
    "PROPI = pd.read_excel(\"./data/project data/propiQvQd.xlsx\", index_col=\"DATE\").fillna(-1)"
   ]
  },
  {
   "cell_type": "code",
   "execution_count": 27,
   "metadata": {},
   "outputs": [],
   "source": [
    "RENTI = pd.read_excel(\"./data/project data/rentiQvQd.xlsx\", index_col=\"DATE\").fillna(-1)"
   ]
  },
  {
   "cell_type": "code",
   "execution_count": 28,
   "metadata": {},
   "outputs": [],
   "source": [
    "DIV = pd.read_excel(\"./data/project data/divQvQd.xlsx\", index_col=\"DATE\").fillna(-1)"
   ]
  },
  {
   "cell_type": "code",
   "execution_count": 29,
   "metadata": {},
   "outputs": [],
   "source": [
    "PINTI = pd.read_excel(\"./data/project data/pintiQvQd.xlsx\", index_col=\"DATE\").fillna(-1)"
   ]
  },
  {
   "cell_type": "code",
   "execution_count": 30,
   "metadata": {},
   "outputs": [],
   "source": [
    "TRANR = pd.read_excel(\"./data/project data/tranrQvQd.xlsx\", index_col=\"DATE\").fillna(-1)"
   ]
  },
  {
   "cell_type": "code",
   "execution_count": 31,
   "metadata": {},
   "outputs": [],
   "source": [
    "SSCONTRIB = pd.read_excel(\"./data/project data/sscontribQvQd.xlsx\", index_col=\"DATE\").fillna(-1)"
   ]
  },
  {
   "cell_type": "code",
   "execution_count": 32,
   "metadata": {},
   "outputs": [],
   "source": [
    "NPI = pd.read_excel(\"./data/project data/npiQvQd.xlsx\", index_col=\"DATE\").fillna(-1)"
   ]
  },
  {
   "cell_type": "code",
   "execution_count": 33,
   "metadata": {},
   "outputs": [],
   "source": [
    "PTAX = pd.read_excel(\"./data/project data/ptaxQvQd.xlsx\", index_col=\"DATE\").fillna(-1)"
   ]
  },
  {
   "cell_type": "code",
   "execution_count": 34,
   "metadata": {},
   "outputs": [],
   "source": [
    "NDPI = pd.read_excel(\"./data/project data/ndpiQvQd.xlsx\", index_col=\"DATE\").fillna(-1)"
   ]
  },
  {
   "cell_type": "code",
   "execution_count": 35,
   "metadata": {},
   "outputs": [],
   "source": [
    "NCON = pd.read_excel(\"./data/project data/nconQvQd.xlsx\", index_col=\"DATE\").fillna(-1)"
   ]
  },
  {
   "cell_type": "code",
   "execution_count": 36,
   "metadata": {},
   "outputs": [],
   "source": [
    "PINTPAID = pd.read_excel(\"./data/project data/pintpaidQvQd.xlsx\", index_col=\"DATE\").fillna(-1)"
   ]
  },
  {
   "cell_type": "code",
   "execution_count": 37,
   "metadata": {},
   "outputs": [],
   "source": [
    "TRANPF = pd.read_excel(\"./data/project data/tranpfQvQd.xlsx\", index_col=\"DATE\").fillna(-1)"
   ]
  },
  {
   "cell_type": "code",
   "execution_count": 38,
   "metadata": {},
   "outputs": [],
   "source": [
    "NPSAV = pd.read_excel(\"./data/project data/npsavQvQd.xlsx\", index_col=\"DATE\").fillna(-1)"
   ]
  },
  {
   "cell_type": "code",
   "execution_count": 39,
   "metadata": {},
   "outputs": [],
   "source": [
    "RATESAV = pd.read_excel(\"./data/project data/ratesavQvQd.xlsx\", index_col=\"DATE\").fillna(-1)"
   ]
  },
  {
   "cell_type": "code",
   "execution_count": 40,
   "metadata": {},
   "outputs": [],
   "source": [
    "NCPROFAT = pd.read_excel(\"./data/project data/NCPROFATQvQd.xlsx\", index_col=\"DATE\").fillna(-1)"
   ]
  },
  {
   "cell_type": "code",
   "execution_count": 41,
   "metadata": {},
   "outputs": [],
   "source": [
    "NCPROFATW = pd.read_excel(\"./data/project data/NCPROFATWQvQd.xlsx\", index_col=\"DATE\")\n",
    "NCPROFATW.drop(index=[\"1946:Q1\", \"1946:Q2\", \"1946:Q3\", \"1946:Q4\"], inplace=True)\n",
    "na_cols_NCPROFATW = [f'NCPROFATW65Q4']\n",
    "na_cols_NCPROFATW.extend([f'NCPROFATW{i}Q{j}' for i in range(66, 81) for j in range (1, 5)])\n",
    "na_df_NCPROFATW = pd.DataFrame(columns=na_cols_NCPROFATW)\n",
    "NCPROFATW = pd.concat([na_df_NCPROFATW, NCPROFATW], axis=1)\n",
    "NCPROFATW.index.names = [\"DATE\"]\n",
    "NCPROFATW.fillna(-1, inplace=True)"
   ]
  },
  {
   "cell_type": "code",
   "execution_count": 42,
   "metadata": {},
   "outputs": [],
   "source": [
    "M1 = pd.read_excel(\"./data/project data/m1QvMd.xlsx\", index_col=\"DATE\").fillna(-1)\n",
    "M1 = rows_to_quarter(M1)\n"
   ]
  },
  {
   "cell_type": "code",
   "execution_count": 43,
   "metadata": {},
   "outputs": [],
   "source": [
    "M2 = pd.read_excel(\"./data/project data/m2QvMd.xlsx\", index_col=\"DATE\").fillna(-1)\n",
    "M2 = rows_to_quarter(M2)"
   ]
  },
  {
   "cell_type": "code",
   "execution_count": 44,
   "metadata": {},
   "outputs": [],
   "source": [
    "CPI = pd.read_excel(\"./data/project data/cpiQvMd.xlsx\", index_col=\"DATE\").fillna(-1)\n",
    "CPI = rows_to_quarter(CPI)"
   ]
  },
  {
   "cell_type": "code",
   "execution_count": 45,
   "metadata": {},
   "outputs": [],
   "source": [
    "PCPIX = pd.read_excel(\"./data/project data/pcpixMvMd.xlsx\", index_col=\"DATE\")\n",
    "PCPIX = month_to_quarter(PCPIX, \"PCPIX\")\n",
    "PCPIX = pad_columns_to_98Q4(PCPIX, \"PCPIX\")\n",
    "PCPIX = rows_to_quarter(PCPIX)"
   ]
  },
  {
   "cell_type": "code",
   "execution_count": 46,
   "metadata": {},
   "outputs": [],
   "source": [
    "PPPI = pd.read_excel(\"./data/project data/pppiMvMd.xlsx\", index_col=\"DATE\")\n",
    "PPPI = month_to_quarter(PPPI, \"PPPI\")\n",
    "PPPI = pad_columns_to_98Q4(PPPI, \"PPPI\")\n",
    "PPPI = rows_to_quarter(PPPI)"
   ]
  },
  {
   "cell_type": "code",
   "execution_count": 47,
   "metadata": {},
   "outputs": [],
   "source": [
    "PPPIX = pd.read_excel(\"./data/project data/pppixMvMd.xlsx\", index_col=\"DATE\")\n",
    "PPPIX = month_to_quarter(PPPIX, \"PPPIX\")\n",
    "PPPIX = pad_columns_to_98Q4(PPPIX, \"PPPIX\")\n",
    "PPPIX = rows_to_quarter(PPPIX)"
   ]
  },
  {
   "cell_type": "code",
   "execution_count": 48,
   "metadata": {},
   "outputs": [],
   "source": [
    "P = pd.read_excel(\"./data/project data/PQvQd.xlsx\", index_col=\"DATE\").fillna(-1)"
   ]
  },
  {
   "cell_type": "code",
   "execution_count": 49,
   "metadata": {},
   "outputs": [],
   "source": [
    "PCON = pd.read_excel(\"./data/project data/pconQvQd.xlsx\", index_col=\"DATE\").fillna(-1)"
   ]
  },
  {
   "cell_type": "code",
   "execution_count": 50,
   "metadata": {},
   "outputs": [],
   "source": [
    "pcong = pd.read_excel(\"./data/project data/pcongQvQd.xlsx\", index_col=\"DATE\")\n",
    "pcong = pad_columns_to_09Q3(pcong, \"pcong\")"
   ]
  },
  {
   "cell_type": "code",
   "execution_count": 51,
   "metadata": {},
   "outputs": [],
   "source": [
    "pconshh = pd.read_excel(\"./data/project data/pconshhQvQd.xlsx\", index_col=\"DATE\")\n",
    "pconshh = pad_columns_to_09Q3(pconshh, \"pconshh\")"
   ]
  },
  {
   "cell_type": "code",
   "execution_count": 52,
   "metadata": {},
   "outputs": [],
   "source": [
    "pconsnp = pd.read_excel(\"./data/project data/pconsnpQvQd.xlsx\", index_col=\"DATE\")\n",
    "pconsnp = pad_columns_to_09Q3(pconsnp, \"pconsnp\")"
   ]
  },
  {
   "cell_type": "code",
   "execution_count": 53,
   "metadata": {},
   "outputs": [],
   "source": [
    "pconhh = pd.read_excel(\"./data/project data/pconhhQvQd.xlsx\", index_col=\"DATE\")\n",
    "pconhh = pad_columns_to_09Q3(pconhh, \"pconhh\")"
   ]
  },
  {
   "cell_type": "code",
   "execution_count": 54,
   "metadata": {},
   "outputs": [],
   "source": [
    "PCONX = pd.read_excel(\"./data/project data/PCONXQvQd.xlsx\", index_col=\"DATE\")\n",
    "na_cols_PCONX = [\"PCONX65Q4\"]\n",
    "na_cols_PCONX.extend([f'PCONX{i}Q{j}'for i in range(66, 96) for j in range(1, 5)])\n",
    "na_df_PCONX = pd.DataFrame(columns=na_cols_PCONX)\n",
    "PCONX = pd.concat([na_df_PCONX, PCONX], axis=1)\n",
    "PCONX.index.names = [\"DATE\"]\n",
    "PCONX.fillna(-1, inplace=True)"
   ]
  },
  {
   "cell_type": "code",
   "execution_count": 55,
   "metadata": {},
   "outputs": [],
   "source": [
    "PIMP = pd.read_excel(\"./data/project data/pimpQvQd.xlsx\", index_col=\"DATE\").fillna(-1)"
   ]
  },
  {
   "cell_type": "code",
   "execution_count": 56,
   "metadata": {},
   "outputs": [],
   "source": [
    "POP = pd.read_excel(\"./data/project data/popMvMd.xlsx\", index_col=\"DATE\")\n",
    "POP = month_to_quarter(POP, \"POP\")\n",
    "POP = pad_columns_to_98Q4(POP, \"POP\")\n",
    "POP = rows_to_quarter(POP)"
   ]
  },
  {
   "cell_type": "code",
   "execution_count": 57,
   "metadata": {},
   "outputs": [],
   "source": [
    "LFC = pd.read_excel(\"./data/project data/lfcMvMd.xlsx\", index_col=\"DATE\")\n",
    "LFC = month_to_quarter(LFC, \"LFC\")\n",
    "LFC = pad_columns_to_98Q4(LFC, \"LFC\")\n",
    "LFC = rows_to_quarter(LFC)"
   ]
  },
  {
   "cell_type": "code",
   "execution_count": 58,
   "metadata": {},
   "outputs": [],
   "source": [
    "LFPART = pd.read_excel(\"./data/project data/lfpartMvMd.xlsx\", index_col=\"DATE\")\n",
    "LFPART = month_to_quarter(LFPART, \"LFPART\")\n",
    "LFPART = pad_columns_to_98Q4(LFPART, \"LFPART\")\n",
    "LFPART = rows_to_quarter(LFPART)"
   ]
  },
  {
   "cell_type": "code",
   "execution_count": 59,
   "metadata": {},
   "outputs": [],
   "source": [
    "RUC = pd.read_excel(\"./data/project data/rucQvMd.xlsx\", index_col=\"DATE\").fillna(-1)\n",
    "RUC = rows_to_quarter(RUC)"
   ]
  },
  {
   "cell_type": "code",
   "execution_count": 60,
   "metadata": {},
   "outputs": [],
   "source": [
    "EMPLOY = pd.read_excel(\"./data/project data/employMvMd.xlsx\", index_col=\"DATE\")\n",
    "EMPLOY = month_to_quarter(EMPLOY, \"EMPLOY\")\n",
    "EMPLOY.drop(columns=[\"EMPLOY65Q1\", \"EMPLOY65Q2\", \"EMPLOY65Q3\"], inplace=True)\n",
    "EMPLOY.fillna(-1, inplace=True)\n",
    "EMPLOY = rows_to_quarter(EMPLOY)"
   ]
  },
  {
   "cell_type": "code",
   "execution_count": 61,
   "metadata": {},
   "outputs": [],
   "source": [
    "H = pd.read_excel(\"./data/project data/hMvMd.xlsx\", index_col=\"DATE\")\n",
    "H = month_to_quarter(H, \"H\")\n",
    "na_cols_H = [\"H65Q4\"]\n",
    "na_cols_H.extend([f'H{i}Q{j}' for i in range(66, 71) for j in range (1, 5)])\n",
    "na_cols_H.extend([\"H71Q1\", \"H71Q2\", \"H71Q3\"])\n",
    "na_df_H = pd.DataFrame(columns=na_cols_H)\n",
    "H = pd.concat([na_df_H, H], axis=1)\n",
    "H.index.names = [\"DATE\"]\n",
    "H.fillna(-1, inplace=True)\n",
    "H = rows_to_quarter(H)"
   ]
  },
  {
   "cell_type": "code",
   "execution_count": 62,
   "metadata": {},
   "outputs": [],
   "source": [
    "HG = pd.read_excel(\"./data/project data/hgMvMd.xlsx\", index_col=\"DATE\")\n",
    "HG = month_to_quarter(HG, \"HG\")\n",
    "na_cols_HG = [\"HG65Q4\"]\n",
    "na_cols_HG.extend([f'HG{i}Q{j}' for i in range(66, 71) for j in range (1, 5)])\n",
    "na_cols_HG.extend([\"HG71Q1\", \"HG71Q2\", \"HG71Q3\"])\n",
    "na_df_HG = pd.DataFrame(columns=na_cols_HG)\n",
    "HG = pd.concat([na_df_HG, HG], axis=1)\n",
    "HG.index.names = [\"DATE\"]\n",
    "HG.fillna(-1, inplace=True)\n",
    "HG = rows_to_quarter(HG)"
   ]
  },
  {
   "cell_type": "code",
   "execution_count": 63,
   "metadata": {},
   "outputs": [],
   "source": [
    "HS = pd.read_excel(\"./data/project data/hsMvMd.xlsx\", index_col=\"DATE\")\n",
    "HS = month_to_quarter(HS, \"HS\")\n",
    "na_cols_HS = [\"HS65Q4\"]\n",
    "na_cols_HS.extend([f'HS{i}Q{j}' for i in range(66, 71) for j in range (1, 5)])\n",
    "na_cols_HS.extend([\"HS71Q1\", \"HS71Q2\", \"HS71Q3\"])\n",
    "na_df_HS = pd.DataFrame(columns=na_cols_HS)\n",
    "HS = pd.concat([na_df_HS, HS], axis=1)\n",
    "HS.index.names = [\"DATE\"]\n",
    "HS.fillna(-1, inplace=True)\n",
    "HS = rows_to_quarter(HS)"
   ]
  },
  {
   "cell_type": "code",
   "execution_count": 64,
   "metadata": {},
   "outputs": [],
   "source": [
    "OPH = pd.read_excel(\"./data/project data/OPHQvQd.xlsx\", index_col=\"DATE\")\n",
    "OPH = pad_columns_to_98Q4(OPH, \"OPH\")"
   ]
  },
  {
   "cell_type": "code",
   "execution_count": 65,
   "metadata": {},
   "outputs": [],
   "source": [
    "ULC = pd.read_excel(\"./data/project data/ULCQvQd.xlsx\", index_col=\"DATE\")\n",
    "ULC = pad_columns_to_98Q4(ULC, \"ULC\")"
   ]
  },
  {
   "cell_type": "code",
   "execution_count": 66,
   "metadata": {},
   "outputs": [],
   "source": [
    "IPT = pd.read_excel(\"./data/project data/iptMvMd.xlsx\", index_col=\"DATE\")\n",
    "IPT = month_to_quarter(IPT, \"IPT\")\n",
    "IPT.drop(columns=[\"IPT62Q4\",\n",
    "                  \"IPT63Q1\", \"IPT63Q2\", \"IPT63Q3\", \"IPT63Q4\",\n",
    "                  \"IPT64Q1\", \"IPT64Q2\", \"IPT64Q3\", \"IPT64Q4\",\n",
    "                  \"IPT65Q1\", \"IPT65Q2\", \"IPT65Q3\"], inplace=True)\n",
    "IPT.fillna(-1, inplace=True)\n",
    "IPT = rows_to_quarter(IPT)"
   ]
  },
  {
   "cell_type": "code",
   "execution_count": 67,
   "metadata": {},
   "outputs": [],
   "source": [
    "IPM = pd.read_excel(\"./data/project data/ipmMvMd.xlsx\", index_col=\"DATE\")\n",
    "IPM = month_to_quarter(IPM, \"IPM\")\n",
    "IPM.drop(columns=[\"IPM62Q4\",\n",
    "                  \"IPM63Q1\", \"IPM63Q2\", \"IPM63Q3\", \"IPM63Q4\",\n",
    "                  \"IPM64Q1\", \"IPM64Q2\", \"IPM64Q3\", \"IPM64Q4\",\n",
    "                  \"IPM65Q1\", \"IPM65Q2\", \"IPM65Q3\"], inplace=True)\n",
    "IPM.fillna(-1, inplace=True)\n",
    "IPM = rows_to_quarter(IPM)"
   ]
  },
  {
   "cell_type": "code",
   "execution_count": 68,
   "metadata": {},
   "outputs": [],
   "source": [
    "CUT = pd.read_excel(\"./data/project data/cutMvMd.xlsx\", index_col=\"DATE\")\n",
    "na_rows_CUT = pd.DataFrame(columns=CUT.columns, index=[\"1947:02\", \"1947:05\", \"1947:08\", \"1947:11\"])\n",
    "CUT = pd.concat([na_rows_CUT, CUT], axis=0)\n",
    "CUT = month_to_quarter(CUT, \"CUT\")\n",
    "na_cols_CUT = [\"CUT65Q4\"]\n",
    "na_cols_CUT.extend([f'CUT{i}Q{j}' for i in range(66, 83) for j in range(1, 5)])\n",
    "na_cols_CUT.extend([\"CUT83Q1\", \"CUT83Q2\"])\n",
    "na_df_CUT = pd.DataFrame(columns=na_cols_CUT)\n",
    "CUT = pd.concat([na_df_CUT, CUT], axis=1)\n",
    "CUT.index.names = [\"DATE\"]\n",
    "CUT.fillna(-1, inplace=True)\n",
    "CUT = rows_to_quarter(CUT)"
   ]
  },
  {
   "cell_type": "code",
   "execution_count": 69,
   "metadata": {},
   "outputs": [],
   "source": [
    "CUM = pd.read_excel(\"./data/project data/cumMvMd.xlsx\", index_col=\"DATE\")\n",
    "na_rows_CUM = pd.DataFrame(columns=CUM.columns, index=[\"1947:02\", \"1947:05\", \"1947:08\", \"1947:11\"])\n",
    "CUM = pd.concat([na_rows_CUM, CUM], axis=0)\n",
    "CUM = month_to_quarter(CUM, \"CUM\")\n",
    "na_cols_CUM = [\"CUM65Q4\"]\n",
    "na_cols_CUM.extend([f'CUM{i}Q{j}' for i in range(66, 79) for j in range(1, 5)])\n",
    "na_cols_CUM.extend([\"CUM79Q1\", \"CUM79Q2\"])\n",
    "na_df_CUM = pd.DataFrame(columns=na_cols_CUM)\n",
    "CUM = pd.concat([na_df_CUM, CUM], axis=1)\n",
    "CUM.index.names = [\"DATE\"]\n",
    "CUM.fillna(-1, inplace=True)\n",
    "CUM = rows_to_quarter(CUM)"
   ]
  },
  {
   "cell_type": "code",
   "execution_count": 70,
   "metadata": {},
   "outputs": [],
   "source": [
    "HSTARTS = pd.read_excel(\"./data/project data/hstartsMvMd.xlsx\", index_col=\"DATE\")\n",
    "HSTARTS = month_to_quarter(HSTARTS, \"HSTARTS\")\n",
    "na_cols_HSTARTS = [\"HSTARTS65Q4\",\n",
    "                   \"HSTARTS66Q1\", \"HSTARTS66Q2\", \"HSTARTS66Q3\", \"HSTARTS66Q4\",\n",
    "                   \"HSTARTS67Q1\", \"HSTARTS67Q2\", \"HSTARTS67Q3\", \"HSTARTS67Q4\"]\n",
    "na_df_HSTARTS = pd.DataFrame(columns=na_cols_HSTARTS)\n",
    "HSTARTS = pd.concat([na_df_HSTARTS, HSTARTS], axis=1)\n",
    "HSTARTS.index.names = [\"DATE\"]\n",
    "HSTARTS.fillna(-1, inplace=True)\n",
    "HSTARTS = rows_to_quarter(HSTARTS)"
   ]
  },
  {
   "cell_type": "code",
   "execution_count": null,
   "metadata": {},
   "outputs": [],
   "source": [
    "# Real GNP/GDP (ROUTPUT)\n",
    "# https://www.philadelphiafed.org/surveys-and-data/real-time-data-research/routput\n",
    "ROUTPUT = pd.read_excel(\"./data/project data/ROUTPUTQvQd.xlsx\", index_col=\"DATE\").fillna(-1)"
   ]
  },
  {
   "cell_type": "code",
   "execution_count": null,
   "metadata": {},
   "outputs": [],
   "source": [
    "macro_variables = [RCON, rcong, RCONND, RCOND, RCONS, rconshh, rconsnp, rinvbf, rinvresid,\n",
    "                   rinvchi, RNX, REX, RIMP, RG, RGF, RGSL, rconhh, WSD, OLI, PROPI, RENTI,\n",
    "                   DIV, PINTI, TRANR, SSCONTRIB, NPI, PTAX, NDPI, NCON, PINTPAID, TRANPF,\n",
    "                   NPSAV, RATESAV, NCPROFAT, NCPROFATW, M1, M2, CPI, PCPIX, PPPI, PPPIX,\n",
    "                   P, PCON, pcong, pconshh, pconsnp, pconhh, PCONX, PIMP, POP, LFC, LFPART,\n",
    "                   RUC, EMPLOY, H, HG, HS, OPH, ULC, IPT, IPM, CUT, CUM, HSTARTS, ROUTPUT]\n",
    "\n",
    "with open('preprocessed_data.pkl', 'wb') as f:\n",
    "    pickle.dump(macro_variables, f)"
   ]
  }
 ],
 "metadata": {
  "kernelspec": {
   "display_name": "Python 3",
   "language": "python",
   "name": "python3"
  },
  "language_info": {
   "codemirror_mode": {
    "name": "ipython",
    "version": 3
   },
   "file_extension": ".py",
   "mimetype": "text/x-python",
   "name": "python",
   "nbconvert_exporter": "python",
   "pygments_lexer": "ipython3",
   "version": "3.10.9"
  }
 },
 "nbformat": 4,
 "nbformat_minor": 2
}
