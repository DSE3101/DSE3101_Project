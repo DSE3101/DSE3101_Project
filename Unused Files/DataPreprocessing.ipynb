{
 "cells": [
  {
   "cell_type": "code",
   "execution_count": 145,
   "metadata": {},
   "outputs": [],
   "source": [
    "import pandas as pd\n",
    "import numpy as np\n",
    "# Data downloaded as of 31 Mar 2024\n",
    "# Focus on quarterly real data\n",
    "# Excluded discontinued variables\n",
    "\n",
    "def pad_columns_to_09Q3(df, name):\n",
    "    na_cols = [f'{name}65Q4']\n",
    "    na_cols.extend([f'{name}{i}Q{j}' for i in range(66, 100) for j in range(1, 5)])\n",
    "    na_cols.extend([f'{name}0{i}Q{j}' for i in range(0, 9) for j in range(1, 5)])\n",
    "    na_cols.extend([f'{name}09Q1', f'{name}09Q2'])\n",
    "    na_df = pd.DataFrame(columns=na_cols)\n",
    "    df = pd.concat([na_df, df], axis=1)\n",
    "    df.index.names = ['DATE']\n",
    "    df.fillna(-999, inplace=True)\n",
    "    return df\n",
    "\n",
    "def pad_columns_to_98Q4(df, name):\n",
    "    na_cols = [f'{name}65Q4']\n",
    "    na_cols.extend([f'{name}{i}Q{j}'for i in range(66, 98) for j in range(1, 5)])\n",
    "    na_cols.extend([f'{name}98Q1', f'{name}98Q2', f'{name}98Q3'])\n",
    "    na_df = pd.DataFrame(columns=na_cols)\n",
    "    df = pd.concat([na_df, df], axis=1)\n",
    "    df.index.names = [\"DATE\"]\n",
    "    df.fillna(-999, inplace=True)\n",
    "    return df\n",
    "\n",
    "def month_to_quarter(df, name):\n",
    "    # Filter middle months\n",
    "    col_months = df.columns\n",
    "    col_middle_months = []\n",
    "    for month in col_months:\n",
    "        if month[-2:] in (\"M2\", \"M5\", \"M8\", \"11\"):\n",
    "            col_middle_months.append(month)\n",
    "    df = df[col_middle_months]\n",
    "\n",
    "    # Convert month to quarter\n",
    "    col_quarters = []\n",
    "    for col in col_middle_months:\n",
    "        month = col[-2:]\n",
    "        if month == \"M2\":\n",
    "            col_quarters.append(col[:-2] + \"Q1\")\n",
    "        elif month == \"M5\":\n",
    "            col_quarters.append(col[:-2] + \"Q2\")\n",
    "        elif month == \"M8\":\n",
    "            col_quarters.append(col[:-2] + \"Q3\")\n",
    "        elif month == \"11\":\n",
    "            col_quarters.append(col[:-3] + \"Q4\")\n",
    "    df.columns = col_quarters\n",
    "\n",
    "    return df\n",
    "\n",
    "def rows_to_quarter(df):\n",
    "    middle_months = []\n",
    "    for year in range(1947, 2024):\n",
    "        for month in (2, 5, 8):\n",
    "            middle_months.append(f'{year}:0{month}')\n",
    "        middle_months.append(f'{year}:11')\n",
    "    df = df.loc[middle_months]\n",
    "\n",
    "    time_quarters = [f'{year}:Q{quarter}' for year in range(1947, 2024) for quarter in range(1, 5)]\n",
    "    df.index = time_quarters\n",
    "    return df"
   ]
  },
  {
   "cell_type": "code",
   "execution_count": 79,
   "metadata": {},
   "outputs": [],
   "source": [
    "RCON = pd.read_excel(\"./data/project data/RCONQvQd.xlsx\", index_col=\"DATE\").apply(lambda x: np.log(x)).diff().fillna(-999)"
   ]
  },
  {
   "cell_type": "code",
   "execution_count": 80,
   "metadata": {},
   "outputs": [],
   "source": [
    "rcong = pd.read_excel(\"./data/project data/rcongQvQd.xlsx\", index_col=\"DATE\").apply(lambda x: np.log(x)).diff().diff()\n",
    "rcong = pad_columns_to_09Q3(rcong, \"rcong\")"
   ]
  },
  {
   "cell_type": "code",
   "execution_count": 81,
   "metadata": {},
   "outputs": [],
   "source": [
    "RCONND = pd.read_excel(\"./data/project data/RCONNDQvQd.xlsx\", index_col=\"DATE\").apply(lambda x: np.log(x)).diff().fillna(-999)"
   ]
  },
  {
   "cell_type": "code",
   "execution_count": 82,
   "metadata": {},
   "outputs": [],
   "source": [
    "RCOND = pd.read_excel(\"./data/project data/RCONDQvQd.xlsx\", index_col=\"DATE\").apply(lambda x: np.log(x)).diff().fillna(-999)"
   ]
  },
  {
   "cell_type": "code",
   "execution_count": 83,
   "metadata": {},
   "outputs": [],
   "source": [
    "RCONS = pd.read_excel(\"./data/project data/RCONSQvQd.xlsx\", index_col=\"DATE\").apply(lambda x: np.log(x)).diff().fillna(-999)"
   ]
  },
  {
   "cell_type": "code",
   "execution_count": 84,
   "metadata": {},
   "outputs": [],
   "source": [
    "rconshh = pd.read_excel(\"./data/project data/rconshhQvQd.xlsx\", index_col=\"DATE\").apply(lambda x: np.log(x)).diff().diff()\n",
    "rconshh = pad_columns_to_09Q3(rconshh, \"rconshh\")"
   ]
  },
  {
   "cell_type": "code",
   "execution_count": 85,
   "metadata": {},
   "outputs": [],
   "source": [
    "rconsnp = pd.read_excel(\"./data/project data/rconsnpQvQd.xlsx\", index_col=\"DATE\").apply(lambda x: np.log(x)).diff().diff()\n",
    "rconsnp = pad_columns_to_09Q3(rconsnp, \"rconsnp\")"
   ]
  },
  {
   "cell_type": "code",
   "execution_count": 86,
   "metadata": {},
   "outputs": [],
   "source": [
    "rinvbf = pd.read_excel(\"./data/project data/rinvbfQvQd.xlsx\", index_col=\"DATE\").apply(lambda x: np.log(x)).diff().diff().fillna(-999)"
   ]
  },
  {
   "cell_type": "code",
   "execution_count": 87,
   "metadata": {},
   "outputs": [],
   "source": [
    "rinvresid = pd.read_excel(\"./data/project data/rinvresidQvQd.xlsx\", index_col=\"DATE\").apply(lambda x: np.log(x)).diff().diff().fillna(-999)"
   ]
  },
  {
   "cell_type": "code",
   "execution_count": 88,
   "metadata": {},
   "outputs": [],
   "source": [
    "rinvchi = pd.read_excel(\"./data/project data/rinvchiQvQd.xlsx\", index_col=\"DATE\").fillna(-999)"
   ]
  },
  {
   "cell_type": "code",
   "execution_count": 89,
   "metadata": {},
   "outputs": [],
   "source": [
    "RNX = pd.read_excel(\"./data/project data/RNXQvQd.xlsx\", index_col=\"DATE\").diff().fillna(-999)"
   ]
  },
  {
   "cell_type": "code",
   "execution_count": 90,
   "metadata": {},
   "outputs": [],
   "source": [
    "REX = pd.read_excel(\"./data/project data/REXQvQd.xlsx\", index_col=\"DATE\").apply(lambda x: np.log(x)).diff().fillna(-999)"
   ]
  },
  {
   "cell_type": "code",
   "execution_count": 91,
   "metadata": {},
   "outputs": [],
   "source": [
    "RIMP = pd.read_excel(\"./data/project data/RIMPQvQd.xlsx\", index_col=\"DATE\").apply(lambda x: np.log(x)).diff().fillna(-999)"
   ]
  },
  {
   "cell_type": "code",
   "execution_count": 92,
   "metadata": {},
   "outputs": [],
   "source": [
    "RG = pd.read_excel(\"./data/project data/RGQvQd.xlsx\", index_col=\"DATE\").apply(lambda x: np.log(x)).diff().fillna(-999)"
   ]
  },
  {
   "cell_type": "code",
   "execution_count": 93,
   "metadata": {},
   "outputs": [],
   "source": [
    "RGF = pd.read_excel(\"./data/project data/RGFQvQd.xlsx\", index_col=\"DATE\").fillna(-999)"
   ]
  },
  {
   "cell_type": "code",
   "execution_count": 94,
   "metadata": {},
   "outputs": [],
   "source": [
    "RGSL = pd.read_excel(\"./data/project data/RGSLQvQd.xlsx\", index_col=\"DATE\").apply(lambda x: np.log(x)).diff().fillna(-999)"
   ]
  },
  {
   "cell_type": "code",
   "execution_count": 95,
   "metadata": {},
   "outputs": [],
   "source": [
    "rconhh = pd.read_excel(\"./data/project data/rconhhQvQd.xlsx\", index_col=\"DATE\").apply(lambda x: np.log(x)).diff()\n",
    "rconhh = pad_columns_to_09Q3(rconhh, \"rconhh\")"
   ]
  },
  {
   "cell_type": "code",
   "execution_count": 96,
   "metadata": {},
   "outputs": [],
   "source": [
    "WSD = pd.read_excel(\"./data/project data/wsdQvQd.xlsx\", index_col=\"DATE\").diff().fillna(-999)"
   ]
  },
  {
   "cell_type": "code",
   "execution_count": 97,
   "metadata": {},
   "outputs": [],
   "source": [
    "OLI = pd.read_excel(\"./data/project data/oliQvQd.xlsx\", index_col=\"DATE\").diff().fillna(-999)"
   ]
  },
  {
   "cell_type": "code",
   "execution_count": 98,
   "metadata": {},
   "outputs": [],
   "source": [
    "PROPI = pd.read_excel(\"./data/project data/propiQvQd.xlsx\", index_col=\"DATE\").diff().fillna(-999)"
   ]
  },
  {
   "cell_type": "code",
   "execution_count": 99,
   "metadata": {},
   "outputs": [],
   "source": [
    "RENTI = pd.read_excel(\"./data/project data/rentiQvQd.xlsx\", index_col=\"DATE\").diff().fillna(-999)"
   ]
  },
  {
   "cell_type": "code",
   "execution_count": 100,
   "metadata": {},
   "outputs": [],
   "source": [
    "DIV = pd.read_excel(\"./data/project data/divQvQd.xlsx\", index_col=\"DATE\").diff().fillna(-999)"
   ]
  },
  {
   "cell_type": "code",
   "execution_count": 101,
   "metadata": {},
   "outputs": [],
   "source": [
    "PINTI = pd.read_excel(\"./data/project data/pintiQvQd.xlsx\", index_col=\"DATE\").diff().fillna(-999)"
   ]
  },
  {
   "cell_type": "code",
   "execution_count": 102,
   "metadata": {},
   "outputs": [],
   "source": [
    "TRANR = pd.read_excel(\"./data/project data/tranrQvQd.xlsx\", index_col=\"DATE\").diff().fillna(-999)"
   ]
  },
  {
   "cell_type": "code",
   "execution_count": 103,
   "metadata": {},
   "outputs": [],
   "source": [
    "SSCONTRIB = pd.read_excel(\"./data/project data/sscontribQvQd.xlsx\", index_col=\"DATE\").diff().fillna(-999)"
   ]
  },
  {
   "cell_type": "code",
   "execution_count": 104,
   "metadata": {},
   "outputs": [],
   "source": [
    "NPI = pd.read_excel(\"./data/project data/npiQvQd.xlsx\", index_col=\"DATE\").diff().fillna(-999)"
   ]
  },
  {
   "cell_type": "code",
   "execution_count": 105,
   "metadata": {},
   "outputs": [],
   "source": [
    "PTAX = pd.read_excel(\"./data/project data/ptaxQvQd.xlsx\", index_col=\"DATE\").diff().fillna(-999)"
   ]
  },
  {
   "cell_type": "code",
   "execution_count": 106,
   "metadata": {},
   "outputs": [],
   "source": [
    "NDPI = pd.read_excel(\"./data/project data/ndpiQvQd.xlsx\", index_col=\"DATE\").diff().fillna(-999)"
   ]
  },
  {
   "cell_type": "code",
   "execution_count": 107,
   "metadata": {},
   "outputs": [],
   "source": [
    "NCON = pd.read_excel(\"./data/project data/nconQvQd.xlsx\", index_col=\"DATE\").diff().fillna(-999)"
   ]
  },
  {
   "cell_type": "code",
   "execution_count": 108,
   "metadata": {},
   "outputs": [],
   "source": [
    "PINTPAID = pd.read_excel(\"./data/project data/pintpaidQvQd.xlsx\", index_col=\"DATE\").diff().fillna(-999)"
   ]
  },
  {
   "cell_type": "code",
   "execution_count": 109,
   "metadata": {},
   "outputs": [],
   "source": [
    "TRANPF = pd.read_excel(\"./data/project data/tranpfQvQd.xlsx\", index_col=\"DATE\").diff().fillna(-999)"
   ]
  },
  {
   "cell_type": "code",
   "execution_count": 110,
   "metadata": {},
   "outputs": [],
   "source": [
    "NPSAV = pd.read_excel(\"./data/project data/npsavQvQd.xlsx\", index_col=\"DATE\").diff().fillna(-999)"
   ]
  },
  {
   "cell_type": "code",
   "execution_count": 111,
   "metadata": {},
   "outputs": [],
   "source": [
    "RATESAV = pd.read_excel(\"./data/project data/ratesavQvQd.xlsx\", index_col=\"DATE\").diff().fillna(-999)"
   ]
  },
  {
   "cell_type": "code",
   "execution_count": 112,
   "metadata": {},
   "outputs": [],
   "source": [
    "NCPROFAT = pd.read_excel(\"./data/project data/NCPROFATQvQd.xlsx\", index_col=\"DATE\").diff().fillna(-999)"
   ]
  },
  {
   "cell_type": "code",
   "execution_count": 113,
   "metadata": {},
   "outputs": [],
   "source": [
    "NCPROFATW = pd.read_excel(\"./data/project data/NCPROFATWQvQd.xlsx\", index_col=\"DATE\").diff()\n",
    "NCPROFATW.drop(index=[\"1946:Q1\", \"1946:Q2\", \"1946:Q3\", \"1946:Q4\"], inplace=True)\n",
    "na_cols_NCPROFATW = [f'NCPROFATW65Q4']\n",
    "na_cols_NCPROFATW.extend([f'NCPROFATW{i}Q{j}' for i in range(66, 81) for j in range (1, 5)])\n",
    "na_df_NCPROFATW = pd.DataFrame(columns=na_cols_NCPROFATW)\n",
    "NCPROFATW = pd.concat([na_df_NCPROFATW, NCPROFATW], axis=1)\n",
    "NCPROFATW.index.names = [\"DATE\"]\n",
    "NCPROFATW.fillna(-999, inplace=True)"
   ]
  },
  {
   "cell_type": "code",
   "execution_count": 150,
   "metadata": {},
   "outputs": [],
   "source": [
    "M1 = pd.read_excel(\"./data/project data/m1QvMd.xlsx\", index_col=\"DATE\")\n",
    "M1 = rows_to_quarter(M1)\n",
    "M1 = M1.apply(lambda x: np.log(x)).diff().fillna(-999)"
   ]
  },
  {
   "cell_type": "code",
   "execution_count": 151,
   "metadata": {},
   "outputs": [],
   "source": [
    "M2 = pd.read_excel(\"./data/project data/m2QvMd.xlsx\", index_col=\"DATE\")\n",
    "M2 = rows_to_quarter(M2)\n",
    "M2 = M2.apply(lambda x: np.log(x)).diff().fillna(-999)"
   ]
  },
  {
   "cell_type": "code",
   "execution_count": 152,
   "metadata": {},
   "outputs": [],
   "source": [
    "CPI = pd.read_excel(\"./data/project data/cpiQvMd.xlsx\", index_col=\"DATE\")\n",
    "CPI = rows_to_quarter(CPI)\n",
    "CPI = CPI.apply(lambda x: np.log(x)).diff().diff().fillna(-999)"
   ]
  },
  {
   "cell_type": "code",
   "execution_count": 153,
   "metadata": {},
   "outputs": [],
   "source": [
    "PCPIX = pd.read_excel(\"./data/project data/pcpixMvMd.xlsx\", index_col=\"DATE\")\n",
    "PCPIX = month_to_quarter(PCPIX, \"PCPIX\")\n",
    "PCPIX = rows_to_quarter(PCPIX)\n",
    "PCPIX = PCPIX.apply(lambda x: np.log(x)).diff().diff()\n",
    "PCPIX = pad_columns_to_98Q4(PCPIX, \"PCPIX\")"
   ]
  },
  {
   "cell_type": "code",
   "execution_count": 154,
   "metadata": {},
   "outputs": [],
   "source": [
    "PPPI = pd.read_excel(\"./data/project data/pppiMvMd.xlsx\", index_col=\"DATE\")\n",
    "PPPI = month_to_quarter(PPPI, \"PPPI\")\n",
    "PPPI = rows_to_quarter(PPPI)\n",
    "PPPI = PPPI.apply(lambda x: np.log(x)).diff().diff()\n",
    "PPPI = pad_columns_to_98Q4(PPPI, \"PPPI\")"
   ]
  },
  {
   "cell_type": "code",
   "execution_count": 155,
   "metadata": {},
   "outputs": [],
   "source": [
    "PPPIX = pd.read_excel(\"./data/project data/pppixMvMd.xlsx\", index_col=\"DATE\")\n",
    "PPPIX = month_to_quarter(PPPIX, \"PPPIX\")\n",
    "PPPIX = rows_to_quarter(PPPIX)\n",
    "PPPIX = PPPIX.apply(lambda x: np.log(x)).diff().diff()\n",
    "PPPIX = pad_columns_to_98Q4(PPPIX, \"PPPIX\")"
   ]
  },
  {
   "cell_type": "code",
   "execution_count": 120,
   "metadata": {},
   "outputs": [],
   "source": [
    "P = pd.read_excel(\"./data/project data/PQvQd.xlsx\", index_col=\"DATE\").apply(lambda x: np.log(x)).diff().diff().fillna(-999)"
   ]
  },
  {
   "cell_type": "code",
   "execution_count": 121,
   "metadata": {},
   "outputs": [],
   "source": [
    "PCON = pd.read_excel(\"./data/project data/pconQvQd.xlsx\", index_col=\"DATE\").apply(lambda x: np.log(x)).diff().diff().fillna(-999)"
   ]
  },
  {
   "cell_type": "code",
   "execution_count": 122,
   "metadata": {},
   "outputs": [],
   "source": [
    "pcong = pd.read_excel(\"./data/project data/pcongQvQd.xlsx\", index_col=\"DATE\").apply(lambda x: np.log(x)).diff().diff()\n",
    "pcong = pad_columns_to_09Q3(pcong, \"pcong\")"
   ]
  },
  {
   "cell_type": "code",
   "execution_count": 123,
   "metadata": {},
   "outputs": [],
   "source": [
    "pconshh = pd.read_excel(\"./data/project data/pconshhQvQd.xlsx\", index_col=\"DATE\").apply(lambda x: np.log(x)).diff().diff()\n",
    "pconshh = pad_columns_to_09Q3(pconshh, \"pconshh\")"
   ]
  },
  {
   "cell_type": "code",
   "execution_count": 124,
   "metadata": {},
   "outputs": [],
   "source": [
    "pconsnp = pd.read_excel(\"./data/project data/pconsnpQvQd.xlsx\", index_col=\"DATE\").apply(lambda x: np.log(x)).diff().diff()\n",
    "pconsnp = pad_columns_to_09Q3(pconsnp, \"pconsnp\")"
   ]
  },
  {
   "cell_type": "code",
   "execution_count": 125,
   "metadata": {},
   "outputs": [],
   "source": [
    "pconhh = pd.read_excel(\"./data/project data/pconhhQvQd.xlsx\", index_col=\"DATE\").apply(lambda x: np.log(x)).diff().diff()\n",
    "pconhh = pad_columns_to_09Q3(pconhh, \"pconhh\")"
   ]
  },
  {
   "cell_type": "code",
   "execution_count": 126,
   "metadata": {},
   "outputs": [],
   "source": [
    "PCONX = pd.read_excel(\"./data/project data/PCONXQvQd.xlsx\", index_col=\"DATE\").apply(lambda x: np.log(x)).diff().diff()\n",
    "na_cols_PCONX = [\"PCONX65Q4\"]\n",
    "na_cols_PCONX.extend([f'PCONX{i}Q{j}'for i in range(66, 96) for j in range(1, 5)])\n",
    "na_df_PCONX = pd.DataFrame(columns=na_cols_PCONX)\n",
    "PCONX = pd.concat([na_df_PCONX, PCONX], axis=1)\n",
    "PCONX.index.names = [\"DATE\"]\n",
    "PCONX.fillna(-999, inplace=True)"
   ]
  },
  {
   "cell_type": "code",
   "execution_count": 127,
   "metadata": {},
   "outputs": [],
   "source": [
    "PIMP = pd.read_excel(\"./data/project data/pimpQvQd.xlsx\", index_col=\"DATE\").apply(lambda x: np.log(x)).diff().diff().fillna(-999)"
   ]
  },
  {
   "cell_type": "code",
   "execution_count": 156,
   "metadata": {},
   "outputs": [],
   "source": [
    "POP = pd.read_excel(\"./data/project data/popMvMd.xlsx\", index_col=\"DATE\")\n",
    "POP = month_to_quarter(POP, \"POP\")\n",
    "POP = rows_to_quarter(POP)\n",
    "POP = POP.diff()\n",
    "POP = pad_columns_to_98Q4(POP, \"POP\")"
   ]
  },
  {
   "cell_type": "code",
   "execution_count": 158,
   "metadata": {},
   "outputs": [],
   "source": [
    "LFC = pd.read_excel(\"./data/project data/lfcMvMd.xlsx\", index_col=\"DATE\")\n",
    "LFC = month_to_quarter(LFC, \"LFC\")\n",
    "LFC = rows_to_quarter(LFC)\n",
    "LFC = LFC.diff()\n",
    "LFC = pad_columns_to_98Q4(LFC, \"LFC\")"
   ]
  },
  {
   "cell_type": "code",
   "execution_count": 159,
   "metadata": {},
   "outputs": [],
   "source": [
    "LFPART = pd.read_excel(\"./data/project data/lfpartMvMd.xlsx\", index_col=\"DATE\")\n",
    "LFPART = month_to_quarter(LFPART, \"LFPART\")\n",
    "LFPART = rows_to_quarter(LFPART)\n",
    "LFPART = LFPART.diff()\n",
    "LFPART = pad_columns_to_98Q4(LFPART, \"LFPART\")"
   ]
  },
  {
   "cell_type": "code",
   "execution_count": 160,
   "metadata": {},
   "outputs": [],
   "source": [
    "RUC = pd.read_excel(\"./data/project data/rucQvMd.xlsx\", index_col=\"DATE\")\n",
    "RUC = rows_to_quarter(RUC)\n",
    "RUC = RUC.diff().fillna(-999)"
   ]
  },
  {
   "cell_type": "code",
   "execution_count": 161,
   "metadata": {},
   "outputs": [],
   "source": [
    "EMPLOY = pd.read_excel(\"./data/project data/employMvMd.xlsx\", index_col=\"DATE\")\n",
    "EMPLOY = month_to_quarter(EMPLOY, \"EMPLOY\")\n",
    "EMPLOY = rows_to_quarter(EMPLOY)\n",
    "EMPLOY = EMPLOY.apply(lambda x: np.log(x)).diff()\n",
    "EMPLOY.drop(columns=[\"EMPLOY65Q1\", \"EMPLOY65Q2\", \"EMPLOY65Q3\"], inplace=True)\n",
    "EMPLOY.fillna(-999, inplace=True)"
   ]
  },
  {
   "cell_type": "code",
   "execution_count": 162,
   "metadata": {},
   "outputs": [],
   "source": [
    "H = pd.read_excel(\"./data/project data/hMvMd.xlsx\", index_col=\"DATE\").apply(lambda x: np.log(x))\n",
    "H = month_to_quarter(H, \"H\")\n",
    "H = rows_to_quarter(H)\n",
    "H = H.diff()\n",
    "na_cols_H = [\"H65Q4\"]\n",
    "na_cols_H.extend([f'H{i}Q{j}' for i in range(66, 71) for j in range (1, 5)])\n",
    "na_cols_H.extend([\"H71Q1\", \"H71Q2\", \"H71Q3\"])\n",
    "na_df_H = pd.DataFrame(columns=na_cols_H)\n",
    "H = pd.concat([na_df_H, H], axis=1)\n",
    "H.index.names = [\"DATE\"]\n",
    "H.fillna(-999, inplace=True)"
   ]
  },
  {
   "cell_type": "code",
   "execution_count": 163,
   "metadata": {},
   "outputs": [],
   "source": [
    "HG = pd.read_excel(\"./data/project data/hgMvMd.xlsx\", index_col=\"DATE\")\n",
    "HG = month_to_quarter(HG, \"HG\")\n",
    "HG = rows_to_quarter(HG)\n",
    "HG = HG.apply(lambda x: np.log(x)).diff()\n",
    "na_cols_HG = [\"HG65Q4\"]\n",
    "na_cols_HG.extend([f'HG{i}Q{j}' for i in range(66, 71) for j in range (1, 5)])\n",
    "na_cols_HG.extend([\"HG71Q1\", \"HG71Q2\", \"HG71Q3\"])\n",
    "na_df_HG = pd.DataFrame(columns=na_cols_HG)\n",
    "HG = pd.concat([na_df_HG, HG], axis=1)\n",
    "HG.index.names = [\"DATE\"]\n",
    "HG.fillna(-999, inplace=True)"
   ]
  },
  {
   "cell_type": "code",
   "execution_count": 164,
   "metadata": {},
   "outputs": [],
   "source": [
    "HS = pd.read_excel(\"./data/project data/hsMvMd.xlsx\", index_col=\"DATE\")\n",
    "HS = month_to_quarter(HS, \"HS\")\n",
    "HS = rows_to_quarter(HS)\n",
    "HS = HS.apply(lambda x: np.log(x)).diff()\n",
    "na_cols_HS = [\"HS65Q4\"]\n",
    "na_cols_HS.extend([f'HS{i}Q{j}' for i in range(66, 71) for j in range (1, 5)])\n",
    "na_cols_HS.extend([\"HS71Q1\", \"HS71Q2\", \"HS71Q3\"])\n",
    "na_df_HS = pd.DataFrame(columns=na_cols_HS)\n",
    "HS = pd.concat([na_df_HS, HS], axis=1)\n",
    "HS.index.names = [\"DATE\"]\n",
    "HS.fillna(-999, inplace=True)"
   ]
  },
  {
   "cell_type": "code",
   "execution_count": 136,
   "metadata": {},
   "outputs": [],
   "source": [
    "OPH = pd.read_excel(\"./data/project data/OPHQvQd.xlsx\", index_col=\"DATE\").apply(lambda x: np.log(x)).diff()\n",
    "OPH = pad_columns_to_98Q4(OPH, \"OPH\")"
   ]
  },
  {
   "cell_type": "code",
   "execution_count": 137,
   "metadata": {},
   "outputs": [],
   "source": [
    "ULC = pd.read_excel(\"./data/project data/ULCQvQd.xlsx\", index_col=\"DATE\").apply(lambda x: np.log(x)).diff()\n",
    "ULC = pad_columns_to_98Q4(ULC, \"ULC\")"
   ]
  },
  {
   "cell_type": "code",
   "execution_count": 165,
   "metadata": {},
   "outputs": [],
   "source": [
    "IPT = pd.read_excel(\"./data/project data/iptMvMd.xlsx\", index_col=\"DATE\")\n",
    "IPT = month_to_quarter(IPT, \"IPT\")\n",
    "IPT = rows_to_quarter(IPT)\n",
    "IPT = IPT.apply(lambda x: np.log(x)).diff()\n",
    "IPT.drop(columns=[\"IPT62Q4\",\n",
    "                  \"IPT63Q1\", \"IPT63Q2\", \"IPT63Q3\", \"IPT63Q4\",\n",
    "                  \"IPT64Q1\", \"IPT64Q2\", \"IPT64Q3\", \"IPT64Q4\",\n",
    "                  \"IPT65Q1\", \"IPT65Q2\", \"IPT65Q3\"], inplace=True)\n",
    "IPT.fillna(-999, inplace=True)"
   ]
  },
  {
   "cell_type": "code",
   "execution_count": 139,
   "metadata": {},
   "outputs": [],
   "source": [
    "IPM = pd.read_excel(\"./data/project data/ipmMvMd.xlsx\", index_col=\"DATE\")\n",
    "IPM = month_to_quarter(IPM, \"IPM\")\n",
    "IPM = rows_to_quarter(IPM)\n",
    "IPM = IPM.apply(lambda x: np.log(x)).diff()\n",
    "IPM.drop(columns=[\"IPM62Q4\",\n",
    "                  \"IPM63Q1\", \"IPM63Q2\", \"IPM63Q3\", \"IPM63Q4\",\n",
    "                  \"IPM64Q1\", \"IPM64Q2\", \"IPM64Q3\", \"IPM64Q4\",\n",
    "                  \"IPM65Q1\", \"IPM65Q2\", \"IPM65Q3\"], inplace=True)\n",
    "IPM.fillna(-999, inplace=True)"
   ]
  },
  {
   "cell_type": "code",
   "execution_count": 140,
   "metadata": {},
   "outputs": [],
   "source": [
    "CUT = pd.read_excel(\"./data/project data/cutMvMd.xlsx\", index_col=\"DATE\")\n",
    "na_rows_CUT = pd.DataFrame(columns=CUT.columns, index=[\"1947:02\", \"1947:05\", \"1947:08\", \"1947:11\"])\n",
    "CUT = pd.concat([na_rows_CUT, CUT], axis=0)\n",
    "CUT = month_to_quarter(CUT, \"CUT\")\n",
    "CUT = rows_to_quarter(CUT)\n",
    "na_cols_CUT = [\"CUT65Q4\"]\n",
    "na_cols_CUT.extend([f'CUT{i}Q{j}' for i in range(66, 83) for j in range(1, 5)])\n",
    "na_cols_CUT.extend([\"CUT83Q1\", \"CUT83Q2\"])\n",
    "na_df_CUT = pd.DataFrame(columns=na_cols_CUT)\n",
    "CUT = pd.concat([na_df_CUT, CUT], axis=1)\n",
    "CUT.index.names = [\"DATE\"]\n",
    "CUT.fillna(-999, inplace=True)"
   ]
  },
  {
   "cell_type": "code",
   "execution_count": 141,
   "metadata": {},
   "outputs": [],
   "source": [
    "CUM = pd.read_excel(\"./data/project data/cumMvMd.xlsx\", index_col=\"DATE\")\n",
    "na_rows_CUM = pd.DataFrame(columns=CUM.columns, index=[\"1947:02\", \"1947:05\", \"1947:08\", \"1947:11\"])\n",
    "CUM = pd.concat([na_rows_CUM, CUM], axis=0)\n",
    "CUM = month_to_quarter(CUM, \"CUM\")\n",
    "CUM = rows_to_quarter(CUM)\n",
    "na_cols_CUM = [\"CUM65Q4\"]\n",
    "na_cols_CUM.extend([f'CUM{i}Q{j}' for i in range(66, 79) for j in range(1, 5)])\n",
    "na_cols_CUM.extend([\"CUM79Q1\", \"CUM79Q2\"])\n",
    "na_df_CUM = pd.DataFrame(columns=na_cols_CUM)\n",
    "CUM = pd.concat([na_df_CUM, CUM], axis=1)\n",
    "CUM.index.names = [\"DATE\"]\n",
    "CUM.fillna(-999, inplace=True)"
   ]
  },
  {
   "cell_type": "code",
   "execution_count": 142,
   "metadata": {},
   "outputs": [],
   "source": [
    "HSTARTS = pd.read_excel(\"./data/project data/hstartsMvMd.xlsx\", index_col=\"DATE\")\n",
    "HSTARTS = month_to_quarter(HSTARTS, \"HSTARTS\")\n",
    "HSTARTS = rows_to_quarter(HSTARTS).apply(lambda x: np.log(x)).diff()\n",
    "HSTARTS = HSTARTS\n",
    "na_cols_HSTARTS = [\"HSTARTS65Q4\",\n",
    "                   \"HSTARTS66Q1\", \"HSTARTS66Q2\", \"HSTARTS66Q3\", \"HSTARTS66Q4\",\n",
    "                   \"HSTARTS67Q1\", \"HSTARTS67Q2\", \"HSTARTS67Q3\", \"HSTARTS67Q4\"]\n",
    "na_df_HSTARTS = pd.DataFrame(columns=na_cols_HSTARTS)\n",
    "HSTARTS = pd.concat([na_df_HSTARTS, HSTARTS], axis=1)\n",
    "HSTARTS.index.names = [\"DATE\"]\n",
    "HSTARTS.fillna(-999, inplace=True)"
   ]
  },
  {
   "cell_type": "code",
   "execution_count": 143,
   "metadata": {},
   "outputs": [],
   "source": [
    "# Real GNP/GDP (ROUTPUT)\n",
    "# https://www.philadelphiafed.org/surveys-and-data/real-time-data-research/routput\n",
    "ROUTPUT = pd.read_excel(\"./data/project data/ROUTPUTQvQd.xlsx\", index_col=\"DATE\").diff().fillna(-999)"
   ]
  },
  {
   "cell_type": "code",
   "execution_count": 144,
   "metadata": {},
   "outputs": [
    {
     "ename": "NameError",
     "evalue": "name 'pickle' is not defined",
     "output_type": "error",
     "traceback": [
      "\u001b[1;31m---------------------------------------------------------------------------\u001b[0m",
      "\u001b[1;31mNameError\u001b[0m                                 Traceback (most recent call last)",
      "Cell \u001b[1;32mIn[144], line 9\u001b[0m\n\u001b[0;32m      1\u001b[0m macro_variables \u001b[38;5;241m=\u001b[39m [RCON, rcong, RCONND, RCOND, RCONS, rconshh, rconsnp, rinvbf, rinvresid,\n\u001b[0;32m      2\u001b[0m                    rinvchi, RNX, REX, RIMP, RG, RGF, RGSL, rconhh, WSD, OLI, PROPI, RENTI,\n\u001b[0;32m      3\u001b[0m                    DIV, PINTI, TRANR, SSCONTRIB, NPI, PTAX, NDPI, NCON, PINTPAID, TRANPF,\n\u001b[0;32m      4\u001b[0m                    NPSAV, RATESAV, NCPROFAT, NCPROFATW, M1, M2, CPI, PCPIX, PPPI, PPPIX,\n\u001b[0;32m      5\u001b[0m                    P, PCON, pcong, pconshh, pconsnp, pconhh, PCONX, PIMP, POP, LFC, LFPART,\n\u001b[0;32m      6\u001b[0m                    RUC, EMPLOY, H, HG, HS, OPH, ULC, IPT, IPM, CUT, CUM, HSTARTS, ROUTPUT]\n\u001b[0;32m      8\u001b[0m \u001b[38;5;28;01mwith\u001b[39;00m \u001b[38;5;28mopen\u001b[39m(\u001b[38;5;124m'\u001b[39m\u001b[38;5;124mpreprocessed_data.pkl\u001b[39m\u001b[38;5;124m'\u001b[39m, \u001b[38;5;124m'\u001b[39m\u001b[38;5;124mwb\u001b[39m\u001b[38;5;124m'\u001b[39m) \u001b[38;5;28;01mas\u001b[39;00m f:\n\u001b[1;32m----> 9\u001b[0m     \u001b[43mpickle\u001b[49m\u001b[38;5;241m.\u001b[39mdump(macro_variables, f)\n",
      "\u001b[1;31mNameError\u001b[0m: name 'pickle' is not defined"
     ]
    }
   ],
   "source": [
    "macro_variables = [RCON, rcong, RCONND, RCOND, RCONS, rconshh, rconsnp, rinvbf, rinvresid,\n",
    "                   rinvchi, RNX, REX, RIMP, RG, RGF, RGSL, rconhh, WSD, OLI, PROPI, RENTI,\n",
    "                   DIV, PINTI, TRANR, SSCONTRIB, NPI, PTAX, NDPI, NCON, PINTPAID, TRANPF,\n",
    "                   NPSAV, RATESAV, NCPROFAT, NCPROFATW, M1, M2, CPI, PCPIX, PPPI, PPPIX,\n",
    "                   P, PCON, pcong, pconshh, pconsnp, pconhh, PCONX, PIMP, POP, LFC, LFPART,\n",
    "                   RUC, EMPLOY, H, HG, HS, OPH, ULC, IPT, IPM, CUT, CUM, HSTARTS, ROUTPUT]\n",
    "\n",
    "with open('preprocessed_data.pkl', 'wb') as f:\n",
    "    pickle.dump(macro_variables, f)"
   ]
  }
 ],
 "metadata": {
  "kernelspec": {
   "display_name": "Python 3",
   "language": "python",
   "name": "python3"
  },
  "language_info": {
   "codemirror_mode": {
    "name": "ipython",
    "version": 3
   },
   "file_extension": ".py",
   "mimetype": "text/x-python",
   "name": "python",
   "nbconvert_exporter": "python",
   "pygments_lexer": "ipython3",
   "version": "3.10.9"
  }
 },
 "nbformat": 4,
 "nbformat_minor": 2
}
